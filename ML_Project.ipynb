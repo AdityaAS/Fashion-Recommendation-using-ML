{
  "cells": [
    {
      "cell_type": "code",
      "execution_count": 11,
      "metadata": {
        "id": "upOnQxV87ibO"
      },
      "outputs": [],
      "source": [
        "import pandas as pd\n",
        "import numpy as np"
      ]
    },
    {
      "cell_type": "code",
      "execution_count": 12,
      "metadata": {
        "colab": {
          "base_uri": "https://localhost:8080/"
        },
        "id": "YOZroDcqGdsP",
        "outputId": "19af9c88-8dee-4e47-92ec-96342dad2376"
      },
      "outputs": [
        {
          "output_type": "stream",
          "name": "stdout",
          "text": [
            "Requirement already satisfied: kaggle in /usr/local/lib/python3.7/dist-packages (1.5.12)\n",
            "Requirement already satisfied: tqdm in /usr/local/lib/python3.7/dist-packages (from kaggle) (4.63.0)\n",
            "Requirement already satisfied: python-slugify in /usr/local/lib/python3.7/dist-packages (from kaggle) (6.1.1)\n",
            "Requirement already satisfied: requests in /usr/local/lib/python3.7/dist-packages (from kaggle) (2.23.0)\n",
            "Requirement already satisfied: urllib3 in /usr/local/lib/python3.7/dist-packages (from kaggle) (1.24.3)\n",
            "Requirement already satisfied: six>=1.10 in /usr/local/lib/python3.7/dist-packages (from kaggle) (1.15.0)\n",
            "Requirement already satisfied: python-dateutil in /usr/local/lib/python3.7/dist-packages (from kaggle) (2.8.2)\n",
            "Requirement already satisfied: certifi in /usr/local/lib/python3.7/dist-packages (from kaggle) (2021.10.8)\n",
            "Requirement already satisfied: text-unidecode>=1.3 in /usr/local/lib/python3.7/dist-packages (from python-slugify->kaggle) (1.3)\n",
            "Requirement already satisfied: chardet<4,>=3.0.2 in /usr/local/lib/python3.7/dist-packages (from requests->kaggle) (3.0.4)\n",
            "Requirement already satisfied: idna<3,>=2.5 in /usr/local/lib/python3.7/dist-packages (from requests->kaggle) (2.10)\n"
          ]
        }
      ],
      "source": [
        "! pip install kaggle"
      ]
    },
    {
      "cell_type": "code",
      "execution_count": 13,
      "metadata": {
        "id": "Kn4vvNisIqV6",
        "colab": {
          "base_uri": "https://localhost:8080/"
        },
        "outputId": "1ea07581-8c8a-4387-97a6-b652ca018cbd"
      },
      "outputs": [
        {
          "output_type": "stream",
          "name": "stdout",
          "text": [
            "mkdir: cannot create directory ‘/root/.kaggle’: File exists\n"
          ]
        }
      ],
      "source": [
        "! mkdir ~/.kaggle"
      ]
    },
    {
      "cell_type": "code",
      "execution_count": 14,
      "metadata": {
        "id": "hI8uBzTyIutQ"
      },
      "outputs": [],
      "source": [
        "! cp kaggle.json ~/.kaggle/"
      ]
    },
    {
      "cell_type": "code",
      "execution_count": 15,
      "metadata": {
        "id": "7DvDOjgFIxV1"
      },
      "outputs": [],
      "source": [
        "! chmod 600 ~/.kaggle/kaggle.json"
      ]
    },
    {
      "cell_type": "code",
      "execution_count": 16,
      "metadata": {
        "id": "fujELoraI0hN",
        "colab": {
          "base_uri": "https://localhost:8080/"
        },
        "outputId": "9cc97ed2-a447-4b5d-858c-ffaa9c935e5d"
      },
      "outputs": [
        {
          "output_type": "stream",
          "name": "stdout",
          "text": [
            "Downloading h-and-m-personalized-fashion-recommendations.zip to /content\n",
            "100% 28.7G/28.7G [05:33<00:00, 116MB/s]\n",
            "100% 28.7G/28.7G [05:33<00:00, 92.3MB/s]\n"
          ]
        }
      ],
      "source": [
        "! kaggle competitions download -c h-and-m-personalized-fashion-recommendations"
      ]
    },
    {
      "cell_type": "code",
      "execution_count": 17,
      "metadata": {
        "id": "T-X-gVGkJGln",
        "colab": {
          "base_uri": "https://localhost:8080/"
        },
        "outputId": "a5e29337-b637-44c7-bc5a-9a68566d866e"
      },
      "outputs": [
        {
          "output_type": "stream",
          "name": "stdout",
          "text": [
            "Downloading articles.csv.zip to /content\n",
            "100% 4.26M/4.26M [00:00<00:00, 18.4MB/s]\n",
            "100% 4.26M/4.26M [00:00<00:00, 18.4MB/s]\n",
            "Downloading customers.csv.zip to /content\n",
            " 91% 89.0M/97.9M [00:01<00:00, 45.8MB/s]\n",
            "100% 97.9M/97.9M [00:01<00:00, 54.0MB/s]\n",
            "Downloading sample_submission.csv.zip to /content\n",
            " 81% 41.0M/50.3M [00:00<00:00, 55.9MB/s]\n",
            "100% 50.3M/50.3M [00:00<00:00, 56.5MB/s]\n",
            "Downloading transactions_train.csv.zip to /content\n",
            " 99% 577M/584M [00:09<00:00, 83.9MB/s]\n",
            "100% 584M/584M [00:09<00:00, 62.2MB/s]\n"
          ]
        }
      ],
      "source": [
        "! kaggle competitions download h-and-m-personalized-fashion-recommendations -f articles.csv \n",
        "! kaggle competitions download h-and-m-personalized-fashion-recommendations -f customers.csv\n",
        "! kaggle competitions download h-and-m-personalized-fashion-recommendations -f sample_submission.csv\n",
        "! kaggle competitions download h-and-m-personalized-fashion-recommendations -f transactions_train.csv\n"
      ]
    },
    {
      "cell_type": "code",
      "execution_count": 18,
      "metadata": {
        "id": "1JRzb_r_KNJ5",
        "colab": {
          "base_uri": "https://localhost:8080/"
        },
        "outputId": "623948e6-2616-4d00-ef57-cbe702c66896"
      },
      "outputs": [
        {
          "output_type": "stream",
          "name": "stdout",
          "text": [
            "Archive:  customers.csv.zip\n",
            "  inflating: customers.csv           \n",
            "Archive:  articles.csv.zip\n",
            "  inflating: articles.csv            \n",
            "Archive:  sample_submission.csv.zip\n",
            "  inflating: sample_submission.csv   \n",
            "Archive:  transactions_train.csv.zip\n",
            "  inflating: transactions_train.csv  \n"
          ]
        }
      ],
      "source": [
        "! unzip customers.csv.zip\n",
        "! unzip articles.csv \n",
        "! unzip sample_submission.csv\n",
        "! unzip transactions_train.csv"
      ]
    },
    {
      "cell_type": "code",
      "source": [
        "import cv2\n",
        "import numpy as np # linear algebra\n",
        "import os\n",
        "import pandas as pd # data processing, CSV file I/O (e.g. pd.read_csv)\n",
        "import matplotlib.pyplot as plt\n",
        "import seaborn as sns\n",
        "import plotly.express as px\n",
        "from os import listdir\n",
        "from os.path import isfile, join\n",
        "\n",
        "from termcolor import colored\n",
        "from IPython.display import HTML\n",
        "from PIL import Image\n",
        "\n",
        "import warnings\n",
        "pd.set_option('display.max_rows', None)\n",
        "pd.set_option('display.max_columns', None)\n",
        "pd.set_option('float_format', '{:f}'.format)\n",
        "warnings.filterwarnings('ignore')"
      ],
      "metadata": {
        "id": "f38UDp8Np5-O"
      },
      "execution_count": 20,
      "outputs": []
    },
    {
      "cell_type": "code",
      "execution_count": 21,
      "metadata": {
        "id": "YuF3wpjNEzww"
      },
      "outputs": [],
      "source": [
        "articles = pd.read_csv(\"articles.csv\")\n",
        "customer = pd.read_csv(\"customers.csv\")\n",
        "transactions = pd.read_csv(\"transactions_train.csv\")\n",
        "article_id = articles['article_id']\n",
        "customer_id = customer['customer_id']\n",
        "# user_item_matrix = pd.DataFrame(customer_id, columns=article_id)\n",
        "# article_id = articles['article_id']\n",
        "# customer_id = customer['customer_id']\n",
        "# matrix = pd.DataFrame(customer_id, )\n"
      ]
    },
    {
      "cell_type": "code",
      "source": [
        "articles_sub = articles[['article_id','prod_name','product_type_name','product_group_name','graphical_appearance_name','colour_group_name'\n",
        "                         ,'perceived_colour_value_name','perceived_colour_master_name','department_name','index_name','index_group_name'\n",
        "                         ,'section_name','garment_group_name','detail_desc']]"
      ],
      "metadata": {
        "id": "xXPgxFQmqA2X"
      },
      "execution_count": 48,
      "outputs": []
    },
    {
      "cell_type": "code",
      "source": [
        "#Removing spaces in all columns\n",
        "for i in articles_sub.columns[1:]:\n",
        "    articles_sub[i] = articles_sub[i].str.replace(\" \",\"\")"
      ],
      "metadata": {
        "id": "MueFBGmrqeUq"
      },
      "execution_count": 49,
      "outputs": []
    },
    {
      "cell_type": "code",
      "source": [
        "#Combine all information into a single column separated by space\n",
        "\n",
        "article_cols = ['prod_name', 'product_type_name', 'product_group_name',\n",
        "       'graphical_appearance_name', 'colour_group_name',\n",
        "       'perceived_colour_value_name', 'perceived_colour_master_name',\n",
        "       'department_name', 'index_name', 'index_group_name', 'section_name',\n",
        "       'garment_group_name', 'detail_desc']\n",
        "articles_sub['combined_info'] = articles_sub[article_cols].apply(lambda row: ' '.join(row.values.astype(str)), axis=1)"
      ],
      "metadata": {
        "id": "CQjgCGgcqkMy"
      },
      "execution_count": 50,
      "outputs": []
    },
    {
      "cell_type": "code",
      "source": [
        "#Take out id and combined info into a new pd\n",
        "articles_final = articles_sub[['article_id','combined_info']]"
      ],
      "metadata": {
        "id": "lqsQRUVwqx_-"
      },
      "execution_count": 51,
      "outputs": []
    },
    {
      "cell_type": "code",
      "source": [
        "#Only 1000 products are taken because of computational issues\n",
        "articles_final = articles_final.loc[:5000]\n",
        "\n",
        "#Replace NaN with an empty string\n",
        "articles_final['combined_info'] = articles_final['combined_info'].fillna('')"
      ],
      "metadata": {
        "id": "qiTgLT_wq7A4"
      },
      "execution_count": 52,
      "outputs": []
    },
    {
      "cell_type": "code",
      "source": [
        "from sklearn.feature_extraction.text import TfidfVectorizer\n",
        "tfidf = TfidfVectorizer(stop_words='english')\n",
        "\n",
        "tfidf_matrix = tfidf.fit_transform(articles_final['combined_info'])\n",
        "\n",
        "tfidf_matrix.shape"
      ],
      "metadata": {
        "colab": {
          "base_uri": "https://localhost:8080/"
        },
        "id": "b21oU5SmrALJ",
        "outputId": "d846e7a6-ca0b-4106-dede-d9b80b087006"
      },
      "execution_count": 53,
      "outputs": [
        {
          "output_type": "execute_result",
          "data": {
            "text/plain": [
              "(5001, 4732)"
            ]
          },
          "metadata": {},
          "execution_count": 53
        }
      ]
    },
    {
      "cell_type": "code",
      "source": [
        "# Import linear_kernel\n",
        "from sklearn.metrics.pairwise import linear_kernel\n",
        "\n",
        "# Compute the cosine similarity matrix\n",
        "cosine_sim_products = linear_kernel(tfidf_matrix, tfidf_matrix)"
      ],
      "metadata": {
        "id": "gEh0TCdJrwHC"
      },
      "execution_count": 54,
      "outputs": []
    },
    {
      "cell_type": "code",
      "source": [
        "indices = pd.Series(articles_final.index, index=articles_final['article_id']).drop_duplicates()"
      ],
      "metadata": {
        "id": "VQVWogpsrxMs"
      },
      "execution_count": 55,
      "outputs": []
    },
    {
      "cell_type": "code",
      "source": [
        "#Function which calculates recommendations based on the product similarity\n",
        "def get_recommendations_product(title, cosine_sim=cosine_sim_products):\n",
        "    # Get the index of the article that matches the title\n",
        "    idx = indices[title]\n",
        "\n",
        "    # Get the pairwsie similarity scores of all articles\n",
        "    sim_scores = list(enumerate(cosine_sim[idx]))\n",
        "\n",
        "    # Sort the articles based on the similarity scores\n",
        "    sim_scores = sorted(sim_scores, key=lambda x: x[1], reverse=True)\n",
        "\n",
        "    # Get the scores of the 10 most similar articles\n",
        "    sim_scores = sim_scores[:12]\n",
        "\n",
        "    # Get the article indices\n",
        "    article_indices = [i[0] for i in sim_scores]\n",
        "\n",
        "    # Return the top 10 most similar articles\n",
        "    return articles_final['article_id'].iloc[article_indices]"
      ],
      "metadata": {
        "id": "sZ_d4_N8rz6f"
      },
      "execution_count": 56,
      "outputs": []
    },
    {
      "cell_type": "code",
      "source": [
        "recom = list(get_recommendations_product(108775044))\n",
        "recom"
      ],
      "metadata": {
        "colab": {
          "base_uri": "https://localhost:8080/"
        },
        "id": "ie7wNLvfsEAK",
        "outputId": "54550e07-fe7d-43c9-cc6e-3c584d9d0091"
      },
      "execution_count": 57,
      "outputs": [
        {
          "output_type": "execute_result",
          "data": {
            "text/plain": [
              "[108775044,\n",
              " 108775051,\n",
              " 108775015,\n",
              " 218354021,\n",
              " 355307042,\n",
              " 316441005,\n",
              " 456163031,\n",
              " 237347045,\n",
              " 237347069,\n",
              " 372008010,\n",
              " 129085026,\n",
              " 479227017]"
            ]
          },
          "metadata": {},
          "execution_count": 57
        }
      ]
    },
    {
      "cell_type": "code",
      "source": [
        "customer['age'] = customer['age'].astype(str)\n",
        "customers_sub = customer[['customer_id', 'age', 'postal_code', 'fashion_news_frequency']]\n",
        "for i in customers_sub.columns[1:]:\n",
        "    customers_sub[i] = customers_sub[i].str.replace(\" \",\"\")\n",
        "\n",
        "customer_cols = ['customer_id', 'age', 'postal_code', 'fashion_news_frequency']\n",
        "customers_sub['combined_info'] = customers_sub[customer_cols].apply(lambda row: ' '.join(row.values.astype(str)), axis=1)\n",
        "\n",
        "customers_final = customers_sub[['customer_id','combined_info']]\n",
        "\n",
        "customers_final = customers_final.loc[:5000]\n",
        "customers_final['combined_info'] = customers_final['combined_info'].fillna('')\n",
        "\n",
        "tfidf = TfidfVectorizer(stop_words='english')\n",
        "tfidf_matrix = tfidf.fit_transform(customers_final['combined_info'])\n",
        "tfidf_matrix.shape\n",
        "\n",
        "from sklearn.metrics.pairwise import linear_kernel\n",
        "\n",
        "# Compute the cosine similarity matrix\n",
        "cosine_sim_users = linear_kernel(tfidf_matrix, tfidf_matrix)\n",
        "\n",
        "indices = pd.Series(customers_final.index, index=customers_final['customer_id']).drop_duplicates()\n"
      ],
      "metadata": {
        "id": "-ib4DQTp0zGX"
      },
      "execution_count": 66,
      "outputs": []
    },
    {
      "cell_type": "code",
      "source": [
        "def get_similar_user(title, cosine_sim=cosine_sim_users):\n",
        "    # Get the index of the article that matches the title\n",
        "    idx = indices[title]\n",
        "\n",
        "    # Get the pairwsie similarity scores of all articles\n",
        "    sim_scores = list(enumerate(cosine_sim[idx]))\n",
        "\n",
        "    # Sort the articles based on the similarity scores\n",
        "    sim_scores = sorted(sim_scores, key=lambda x: x[1], reverse=True)\n",
        "\n",
        "    # Get the scores of the 10 most similar articles\n",
        "    sim_scores = sim_scores[:12]\n",
        "\n",
        "    # Get the article indices\n",
        "    customer_indices = [i[0] for i in sim_scores]\n",
        "\n",
        "    # Return the top 10 most similar articles\n",
        "    return customers_final['customer_id'].iloc[customer_indices]"
      ],
      "metadata": {
        "id": "9rVAUxxwz0ko"
      },
      "execution_count": 67,
      "outputs": []
    },
    {
      "cell_type": "code",
      "source": [
        "recom = list(get_similar_user(\"00000dbacae5abe5e23885899a1fa44253a17956c6d1c3d25f88aa139fdfc657\"))\n",
        "recom"
      ],
      "metadata": {
        "colab": {
          "base_uri": "https://localhost:8080/"
        },
        "id": "GRTnYQjh8F45",
        "outputId": "64f4e721-7e1f-4d95-f0fd-0c8da7deefa4"
      },
      "execution_count": 68,
      "outputs": [
        {
          "output_type": "execute_result",
          "data": {
            "text/plain": [
              "['00000dbacae5abe5e23885899a1fa44253a17956c6d1c3d25f88aa139fdfc657',\n",
              " '001b9ee636090fa2beb0965d7d9b646f221c64369786175c5763ad1a36548c88',\n",
              " '007accae76def815ed0b6f388a5b340c41722486527ff434f25dcc0f9616d47c',\n",
              " '00bd95e010cdca5eeb53adb42afe0256d3a766ff8eb41d8785af048bee83e899',\n",
              " '0014fc093a3c27277cdba16ba91bfbd37364834f48feb9c89de17a6e565767f5',\n",
              " '003540c0b3641aa2976d4a678bac602ea1ae727c530a42a362b16b11a95fa9c0',\n",
              " '0035ef3f6b5e6f0fc5c26d75afe11c364b9a319ba329559878847e860e3d48e1',\n",
              " '004a9bd306f296bf6f18014db6237a57bb1bf5bce05b0e0366a653ea1cafc40a',\n",
              " '0057aa0ad7aa5a8953cdbadb58917e5d4f0a6b53374918151f4f3d13a401380c',\n",
              " '0071a0a6690dc08042228803de04748184f9cc11985c877aa66f70fdab36b33c',\n",
              " '00b2f47f03bf90ae936c68fbcd4e8e9d58c11d69218b0e6920ba3c672d48396b',\n",
              " '000c0995dc7f3fbec41cf1cb2c535f6e2ae99c0fe351e4a40ccd037fe6dced46']"
            ]
          },
          "metadata": {},
          "execution_count": 68
        }
      ]
    },
    {
      "cell_type": "code",
      "execution_count": null,
      "metadata": {
        "id": "lOw5sQ6ESBK2",
        "colab": {
          "base_uri": "https://localhost:8080/"
        },
        "outputId": "1d97b71f-16dd-48f6-e571-56e02ee1724a"
      },
      "outputs": [
        {
          "output_type": "stream",
          "name": "stdout",
          "text": [
            "(1371980,) (105542,)\n"
          ]
        }
      ],
      "source": [
        "print(customer_id.shape, article_id.shape)\n",
        "top_customers_id = customer_id[0:10000]\n",
        "top_articles_id = article_id[0:10000]\n",
        "# print(top_customers_id.shape)\n",
        "no_of_rows = top_customers_id.shape[0]\n",
        "no_of_columns = top_articles_id.shape[0]\n",
        "user_item_matrix = np.zeros((no_of_rows, no_of_columns))\n",
        "df = pd.DataFrame(user_item_matrix, columns = top_customers_id, index = top_articles_id)"
      ]
    },
    {
      "cell_type": "code",
      "source": [
        "specific_transactions_customer = transactions.loc[transactions['customer_id'].isin(top_customers_id)]\n",
        "specific_transactions_overall = specific_transactions_customer.loc[specific_transactions_customer['article_id'].isin(top_articles_id)]\n",
        "top_specific = specific_transactions_overall[0:100]\n",
        "for index, each_transaction in top_specific.iterrows():\n",
        "    c_id = each_transaction['customer_id']\n",
        "    a_id = each_transaction['article_id']\n",
        "    print(a_id, c_id)\n",
        "    df.loc[a_id, c_id] = 1\n"
      ],
      "metadata": {
        "id": "xwexpu_5awq_",
        "colab": {
          "base_uri": "https://localhost:8080/"
        },
        "outputId": "14eadcd8-48a3-4732-9af3-0301bb1d98a2"
      },
      "execution_count": null,
      "outputs": [
        {
          "output_type": "stream",
          "name": "stdout",
          "text": [
            "505221004 00007d2de826758b65a93dd24ce629ed66842531df6699338c5570910a014cc2\n",
            "505221001 00007d2de826758b65a93dd24ce629ed66842531df6699338c5570910a014cc2\n",
            "501323011 00083cda041544b2fbb0e0d2905ad17da7cf1007526fb4c73235dccbbc132280\n",
            "531310002 0008968c0d451dbc5a9968da03196fe20051965edde7413775c4eb3be9abe9c2\n",
            "529841001 0008968c0d451dbc5a9968da03196fe20051965edde7413775c4eb3be9abe9c2\n",
            "501820043 000aa7f0dc06cd7174389e76c9e132a67860c5f65f970699daccc14425ac31a8\n",
            "501820043 000aa7f0dc06cd7174389e76c9e132a67860c5f65f970699daccc14425ac31a8\n",
            "377277001 000aa7f0dc06cd7174389e76c9e132a67860c5f65f970699daccc14425ac31a8\n",
            "377277001 000aa7f0dc06cd7174389e76c9e132a67860c5f65f970699daccc14425ac31a8\n",
            "397068015 001127bffdda108579e6cb16080440e89bf1250a776c6e55f56e35e9ee029a8d\n",
            "464277014 002b3c0a44a22c45a8d62ea9d2b88d1a89e335f8b8400335a85c3b5845794cb9\n",
            "464277014 002b3c0a44a22c45a8d62ea9d2b88d1a89e335f8b8400335a85c3b5845794cb9\n",
            "427114015 00401a367c5ac085cb9d4b77c56f3edcabf25153615db982fcc7991d182e10a9\n",
            "507909001 00402f4463c8dc1b3ee54abfdea280e96cd87320449eca8953eb06769a5c20d4\n",
            "211143037 0045c79125b4dc958579f902b49eacd8598f9eeaa1220506d1cae1275f122084\n",
            "211143037 0045c79125b4dc958579f902b49eacd8598f9eeaa1220506d1cae1275f122084\n",
            "503729006 0045c79125b4dc958579f902b49eacd8598f9eeaa1220506d1cae1275f122084\n",
            "503729006 0045c79125b4dc958579f902b49eacd8598f9eeaa1220506d1cae1275f122084\n",
            "508184020 005c9fb2ba6c49b2098a662f64a9124ef95cbec5fcf4ebdb4dcbaaf83f979c51\n",
            "255396006 00708c3da4d07706d4cad77c6aecc1b1ce33d21d73022ca12737c91d85bff070\n",
            "516712001 00708c3da4d07706d4cad77c6aecc1b1ce33d21d73022ca12737c91d85bff070\n",
            "524825010 0074c5948b6c96e7522f6f5c034b46cf08875b9a81c557a02bda0aedac355547\n",
            "534795002 0077ba345ef6aa8781802107df25bbb8a14fdcd04130c3ffa5cd1ac4087ad8ab\n",
            "432984001 00873fc0f81215241785b49518e6758a2c26c0eac4825e7eb048b005a33fc3d6\n",
            "448509017 00889357d9b1e0e3788fbe8fd7448580b9e51800f59196891c4796a9aaac0945\n",
            "186262006 00a017d6e1010e117e3881be44027688795bf5f3c363696f7260d0ebe2727285\n",
            "294008002 00b1804e347ad55d1a75d7c07169e17d1890ad48953824879234177741a85955\n",
            "529008008 00b6ec8613e51d8eadc5157f5a12ae1366ca29da7d44cc8d0ae1e667dea6f268\n",
            "225784001 00c09e66121ad36f5a8d5039cda266d60bc53daac0b7ad14f19cbbf97be0b160\n",
            "297078001 00c83c269bedcb5135799d3bc4a7ae6f134d57bdd1be071486ef152b2ef1c300\n",
            "512251004 00cf4505ba84c01f03c47829352054483acb59a9492ed0eef597dcf030e9e58b\n",
            "179208001 00cf4505ba84c01f03c47829352054483acb59a9492ed0eef597dcf030e9e58b\n",
            "524825019 0115586b1ca570d4a4ef16b9a8e1cf62c9d519d43edc0bc7bdca09b5af2b1370\n",
            "522561002 01271359dce99de537d6a3fca3c4dfd3732b455ec5085dc0b1623ab550fb821a\n",
            "518827004 0132d21d866697c428e4d6ffb02548fd71966aa88c8f5adea314e2341f8ad87b\n",
            "487827009 013d1d9e3414787ec7bf048697592b6f76dec3bd5263e485e64429ce387ed09c\n",
            "535877018 013d1d9e3414787ec7bf048697592b6f76dec3bd5263e485e64429ce387ed09c\n",
            "400319005 013d1d9e3414787ec7bf048697592b6f76dec3bd5263e485e64429ce387ed09c\n",
            "445419009 013d1d9e3414787ec7bf048697592b6f76dec3bd5263e485e64429ce387ed09c\n",
            "532578008 013d1d9e3414787ec7bf048697592b6f76dec3bd5263e485e64429ce387ed09c\n",
            "399136061 014cbfc591254f0cf30df52b660f94dead60c8d3eafc00ebb3051bd196bdcd8e\n",
            "399136061 014cbfc591254f0cf30df52b660f94dead60c8d3eafc00ebb3051bd196bdcd8e\n",
            "502186011 014cbfc591254f0cf30df52b660f94dead60c8d3eafc00ebb3051bd196bdcd8e\n",
            "487052007 0164840429884bbb47f2a342ceea1f0748650d632cd7e3ae962169ddc5abc7e7\n",
            "176550020 0164840429884bbb47f2a342ceea1f0748650d632cd7e3ae962169ddc5abc7e7\n",
            "487050001 0164840429884bbb47f2a342ceea1f0748650d632cd7e3ae962169ddc5abc7e7\n",
            "487053021 0164840429884bbb47f2a342ceea1f0748650d632cd7e3ae962169ddc5abc7e7\n",
            "527687006 016d8f0519d9e0572b3abebeab87408bad7a5c3a2840161f7de2f2900f39b6e6\n",
            "496111020 017ddc94fee40ab9a24af073a4c69282b4c04e094d53a96dc0c97642b5d3b25d\n",
            "457892005 01887181e59ebbbcda75875d5df516d0ffaa26581ffd78cd909795732e4be9a5\n",
            "500780006 019169333a46eafc04a2a49f04076aeb5bc7f33c403e8940e39048a9581ce753\n",
            "212042043 01a9a077a83eacc6fd946a60c4ca2aed16219fcd83d31e3110fa04630c42b96d\n",
            "244267032 01c3653cafdd569ef34e36810d1c1bda71c0d425e568278d0cfe05cfb6604a1a\n",
            "537688014 01c8cb2f730cd7253bd3e290d98823894222b305139631fc0471d8d0b3a4bde9\n",
            "214844001 01c8cb2f730cd7253bd3e290d98823894222b305139631fc0471d8d0b3a4bde9\n",
            "427159007 01cc2111fdf0603337bf82c79130e2144248bcec1a69cec7e28af56c0c78a4da\n",
            "536162002 01cdaf4a8603d1aafd565d05a7e1013d1cca48ab378fa83a68cfe01b52874852\n",
            "506110001 01d106a0b45ae7f169b3233d332bf325c80c24d4d160edeccf7d70905077fb86\n",
            "403448007 000fb6e772c5d0023892065e659963da90b1866035558ec16fca51b0dcfb7e59\n",
            "403448007 000fb6e772c5d0023892065e659963da90b1866035558ec16fca51b0dcfb7e59\n",
            "458083003 000fb6e772c5d0023892065e659963da90b1866035558ec16fca51b0dcfb7e59\n",
            "453358001 000fb6e772c5d0023892065e659963da90b1866035558ec16fca51b0dcfb7e59\n",
            "287645003 001521e8394eb81ba43ab5b84ae7e756d51ac813be212a96e8779e0e42c029c0\n",
            "293433027 001521e8394eb81ba43ab5b84ae7e756d51ac813be212a96e8779e0e42c029c0\n",
            "293433027 001521e8394eb81ba43ab5b84ae7e756d51ac813be212a96e8779e0e42c029c0\n",
            "287645023 001521e8394eb81ba43ab5b84ae7e756d51ac813be212a96e8779e0e42c029c0\n",
            "293433026 001521e8394eb81ba43ab5b84ae7e756d51ac813be212a96e8779e0e42c029c0\n",
            "293433026 001521e8394eb81ba43ab5b84ae7e756d51ac813be212a96e8779e0e42c029c0\n",
            "293433018 001521e8394eb81ba43ab5b84ae7e756d51ac813be212a96e8779e0e42c029c0\n",
            "293433018 001521e8394eb81ba43ab5b84ae7e756d51ac813be212a96e8779e0e42c029c0\n",
            "502186012 002975c14a1aecac230ebf40c314fcad04ee3140e9bef259acc390c3fac257cb\n",
            "504154022 002975c14a1aecac230ebf40c314fcad04ee3140e9bef259acc390c3fac257cb\n",
            "516000002 002975c14a1aecac230ebf40c314fcad04ee3140e9bef259acc390c3fac257cb\n",
            "502186014 002975c14a1aecac230ebf40c314fcad04ee3140e9bef259acc390c3fac257cb\n",
            "380609021 00357b192b81fc83261a45be87f5f3d59112db7d117513c1e908e6a7021edc35\n",
            "312543001 004115a4fedc5adc9ee1d88e7e8cc5f4e25a8770c46297286f35d0aeb83c15e4\n",
            "517790004 004115a4fedc5adc9ee1d88e7e8cc5f4e25a8770c46297286f35d0aeb83c15e4\n",
            "306307076 004115a4fedc5adc9ee1d88e7e8cc5f4e25a8770c46297286f35d0aeb83c15e4\n",
            "501820043 00431780e2f29c24410f3e126fdf48e999263e02a474732aca9a7e764253401d\n",
            "521302008 0049cd9153c0d3363c12f6b498c32110ef7991c1cda0081f170e6c6ccc8d442f\n",
            "244267029 0049cd9153c0d3363c12f6b498c32110ef7991c1cda0081f170e6c6ccc8d442f\n",
            "501820004 0051a1d00ec9a4ff1a2f9aa32a4bb054cc9ba08e80be590aec39391ff3dc56e8\n",
            "519583015 0053ed9ca8aec99187532961a73a12e26a671930890fd1ece01539d89a492fbc\n",
            "453358001 0053ed9ca8aec99187532961a73a12e26a671930890fd1ece01539d89a492fbc\n",
            "399136061 0053ed9ca8aec99187532961a73a12e26a671930890fd1ece01539d89a492fbc\n",
            "399136061 0053ed9ca8aec99187532961a73a12e26a671930890fd1ece01539d89a492fbc\n",
            "537116004 005777ba7b5f41487cc933ed6bb184801e1a42d3bb35fc3e0669f2d674e5c661\n",
            "501820045 005777ba7b5f41487cc933ed6bb184801e1a42d3bb35fc3e0669f2d674e5c661\n",
            "506110001 006a9ca03c41ae1a3bad232da1337fc5b49637c97ccb746588ea99e2b6874fa9\n",
            "189634001 006a9ca03c41ae1a3bad232da1337fc5b49637c97ccb746588ea99e2b6874fa9\n",
            "158340001 006c5fca9bbe95f30b51e8cd01ae20349db09ea73d81c9514dee154dc04988e2\n",
            "441386004 006fc692255154571ee51f55a55b75ea29e2b63508c6064a75abb11c82df8365\n",
            "237347036 007b97e0e717dd5914d8feaa81e36d6594459a8563545b26a142981e0f0a7a6f\n",
            "504154015 008333f2dd18bbe5576ad4fb16297bffaf2d9e2b2d54838daa131c95cd53c9a6\n",
            "494691001 008333f2dd18bbe5576ad4fb16297bffaf2d9e2b2d54838daa131c95cd53c9a6\n",
            "399223001 008ae11dd3105ae41a74f51a2581e1585cf69ac26cfc37610c30896ca2cf3c95\n",
            "399223001 008ae11dd3105ae41a74f51a2581e1585cf69ac26cfc37610c30896ca2cf3c95\n",
            "179950001 0090c0bb62e94f069ee7892db19d2fb546ff3c7cf7b79d6bae8fde9e9b88b2d0\n",
            "507909017 009c145b8b462e64ac1ee92597043728dd945a93dae8dc68b16dde32fc61e861\n",
            "211143022 009fadd7d8f7728e20f79989ff9417472600aa1d78ccb7a3833a01787c25f0cc\n"
          ]
        }
      ]
    },
    {
      "cell_type": "code",
      "source": [
        "df.loc[a_id, c_id]"
      ],
      "metadata": {
        "colab": {
          "base_uri": "https://localhost:8080/"
        },
        "id": "b6952dw5gxyD",
        "outputId": "e5316d4a-6f57-4521-fed2-1a52e0542452"
      },
      "execution_count": null,
      "outputs": [
        {
          "output_type": "execute_result",
          "data": {
            "text/plain": [
              "1.0"
            ]
          },
          "metadata": {},
          "execution_count": 16
        }
      ]
    },
    {
      "cell_type": "code",
      "source": [
        "from sklearn.decomposition import TruncatedSVD\n",
        "\n",
        "# initial hyperparameter\n",
        "epsilon = 1e-9\n",
        "n_latent_factors = 10\n",
        "\n",
        "# generate item lantent features\n",
        "item_svd = TruncatedSVD(n_components = n_latent_factors)\n",
        "item_features = item_svd.fit_transform(df.transpose()) + epsilon\n",
        "\n",
        "# generate user latent features\n",
        "user_svd = TruncatedSVD(n_components = n_latent_factors)\n",
        "user_features = user_svd.fit_transform(df) + epsilon"
      ],
      "metadata": {
        "id": "teAsm7lfZVeL"
      },
      "execution_count": null,
      "outputs": []
    },
    {
      "cell_type": "code",
      "source": [
        "item_svd.test()"
      ],
      "metadata": {
        "id": "_495xIq3iLaX"
      },
      "execution_count": null,
      "outputs": []
    }
  ],
  "metadata": {
    "colab": {
      "collapsed_sections": [],
      "machine_shape": "hm",
      "name": "ML Project.ipynb",
      "provenance": []
    },
    "kernelspec": {
      "display_name": "Python 3",
      "name": "python3"
    },
    "language_info": {
      "name": "python"
    }
  },
  "nbformat": 4,
  "nbformat_minor": 0
}