{
 "cells": [
  {
   "cell_type": "code",
   "execution_count": 1,
   "id": "9c909478",
   "metadata": {},
   "outputs": [],
   "source": [
    "import torch\n",
    "from transformers import AutoTokenizer, AutoModel"
   ]
  },
  {
   "cell_type": "code",
   "execution_count": 21,
   "id": "eb58a188",
   "metadata": {},
   "outputs": [],
   "source": [
    "from typing import List, Optional"
   ]
  },
  {
   "cell_type": "code",
   "execution_count": 2,
   "id": "9cd9a26e",
   "metadata": {},
   "outputs": [],
   "source": [
    "tokenizer = AutoTokenizer.from_pretrained('distilbert-base-uncased')"
   ]
  },
  {
   "cell_type": "code",
   "execution_count": 3,
   "id": "ef43eee7",
   "metadata": {},
   "outputs": [
    {
     "name": "stderr",
     "output_type": "stream",
     "text": [
      "Some weights of the model checkpoint at distilbert-base-uncased were not used when initializing DistilBertModel: ['vocab_transform.weight', 'vocab_layer_norm.weight', 'vocab_transform.bias', 'vocab_projector.bias', 'vocab_projector.weight', 'vocab_layer_norm.bias']\n",
      "- This IS expected if you are initializing DistilBertModel from the checkpoint of a model trained on another task or with another architecture (e.g. initializing a BertForSequenceClassification model from a BertForPreTraining model).\n",
      "- This IS NOT expected if you are initializing DistilBertModel from the checkpoint of a model that you expect to be exactly identical (initializing a BertForSequenceClassification model from a BertForSequenceClassification model).\n"
     ]
    }
   ],
   "source": [
    "model = AutoModel.from_pretrained('distilbert-base-uncased', output_hidden_states=True)"
   ]
  },
  {
   "cell_type": "code",
   "execution_count": 4,
   "id": "ba7f9260",
   "metadata": {},
   "outputs": [],
   "source": [
    "test_texts = [\"my hovercraft is full of eels\", \"where do we go now?\", \"to-ma-to, to-mah-to\", \"don't call me shirley\"]"
   ]
  },
  {
   "cell_type": "code",
   "execution_count": 23,
   "id": "5e06bb25",
   "metadata": {},
   "outputs": [],
   "source": [
    "def gen_embeds(sents: List[str], average: bool = True) -> torch.Tensor:\n",
    "    \"\"\"\n",
    "    sents:  List of sentences to generate embeddings for\n",
    "    average: Return average over sentences\n",
    "\n",
    "    Returns:\n",
    "    torch.Tensor of size num_sents x emb_dim if average = True else\n",
    "                    size num_sents x max_len, emb_dim\n",
    "    \"\"\"\n",
    "    with torch.no_grad():\n",
    "        inputs = tokenizer(sents, padding=True, return_tensors=\"pt\")\n",
    "        logits = model(**inputs).last_hidden_state\n",
    "\n",
    "        if average:\n",
    "            # Average across the entire sentence\n",
    "            return torch.mean(logits, dim=1)\n",
    "        else:\n",
    "            return logits\n"
   ]
  },
  {
   "cell_type": "code",
   "execution_count": 24,
   "id": "b336d371",
   "metadata": {},
   "outputs": [
    {
     "data": {
      "text/plain": [
       "tensor([[ 0.1746,  0.0238,  0.0530,  ..., -0.0598,  0.0308,  0.1818],\n",
       "        [ 0.3365, -0.0234,  0.1607,  ...,  0.0293,  0.0692, -0.0304],\n",
       "        [ 0.0729,  0.2888,  0.0086,  ..., -0.0316,  0.0133,  0.4798],\n",
       "        [ 0.3095,  0.1425,  0.0594,  ...,  0.1269, -0.0609,  0.1577]])"
      ]
     },
     "execution_count": 24,
     "metadata": {},
     "output_type": "execute_result"
    }
   ],
   "source": [
    "gen_embeds(test_texts)"
   ]
  },
  {
   "cell_type": "code",
   "execution_count": null,
   "id": "c098537c",
   "metadata": {},
   "outputs": [],
   "source": []
  }
 ],
 "metadata": {
  "kernelspec": {
   "display_name": "Python 3 (ipykernel)",
   "language": "python",
   "name": "python3"
  },
  "language_info": {
   "codemirror_mode": {
    "name": "ipython",
    "version": 3
   },
   "file_extension": ".py",
   "mimetype": "text/x-python",
   "name": "python",
   "nbconvert_exporter": "python",
   "pygments_lexer": "ipython3",
   "version": "3.9.12"
  }
 },
 "nbformat": 4,
 "nbformat_minor": 5
}
